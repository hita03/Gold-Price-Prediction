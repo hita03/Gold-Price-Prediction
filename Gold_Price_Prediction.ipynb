{
  "nbformat": 4,
  "nbformat_minor": 0,
  "metadata": {
    "colab": {
      "name": "Gold-Price-Prediction.ipynb",
      "provenance": [],
      "authorship_tag": "ABX9TyNX0jfzuXPpKFJMu35e5R8Q"
    },
    "kernelspec": {
      "name": "python3",
      "display_name": "Python 3"
    },
    "language_info": {
      "name": "python"
    }
  },
  "cells": [
    {
      "cell_type": "code",
      "metadata": {
        "id": "QMt-Ybu8VnLX"
      },
      "source": [
        "import numpy as np\n",
        "import pandas as pd\n",
        "import matplotlib.pyplot as plt\n",
        "import seaborn as sns\n",
        "from sklearn.model_selection import train_test_split\n",
        "from sklearn.ensemble import RandomForestRegressor\n",
        "from sklearn import metrics"
      ],
      "execution_count": 2,
      "outputs": []
    },
    {
      "cell_type": "markdown",
      "metadata": {
        "id": "uEps5VBbWBCC"
      },
      "source": [
        "Data Collection & Processing\n"
      ]
    },
    {
      "cell_type": "code",
      "metadata": {
        "colab": {
          "base_uri": "https://localhost:8080/",
          "height": 206
        },
        "id": "CWmVUdcXWE27",
        "outputId": "038fbff6-1ea3-4312-dc41-08a33e4ee834"
      },
      "source": [
        "#loading csv data to dataframe\n",
        "\n",
        "gold_data = pd.read_csv('/content/gld_price_data.csv')\n",
        "#gold_data.head()\n",
        "#SPX: Capitalization of 500 companies which are public, stock value\n",
        "#GLD: Gold price, #SLV: Silver Price \n",
        "#USO: United States Oil Price\n",
        "#EUR/USD: Currency Pair\n",
        "gold_data.tail()"
      ],
      "execution_count": 4,
      "outputs": [
        {
          "output_type": "execute_result",
          "data": {
            "text/html": [
              "<div>\n",
              "<style scoped>\n",
              "    .dataframe tbody tr th:only-of-type {\n",
              "        vertical-align: middle;\n",
              "    }\n",
              "\n",
              "    .dataframe tbody tr th {\n",
              "        vertical-align: top;\n",
              "    }\n",
              "\n",
              "    .dataframe thead th {\n",
              "        text-align: right;\n",
              "    }\n",
              "</style>\n",
              "<table border=\"1\" class=\"dataframe\">\n",
              "  <thead>\n",
              "    <tr style=\"text-align: right;\">\n",
              "      <th></th>\n",
              "      <th>Date</th>\n",
              "      <th>SPX</th>\n",
              "      <th>GLD</th>\n",
              "      <th>USO</th>\n",
              "      <th>SLV</th>\n",
              "      <th>EUR/USD</th>\n",
              "    </tr>\n",
              "  </thead>\n",
              "  <tbody>\n",
              "    <tr>\n",
              "      <th>2285</th>\n",
              "      <td>5/8/2018</td>\n",
              "      <td>2671.919922</td>\n",
              "      <td>124.589996</td>\n",
              "      <td>14.0600</td>\n",
              "      <td>15.5100</td>\n",
              "      <td>1.186789</td>\n",
              "    </tr>\n",
              "    <tr>\n",
              "      <th>2286</th>\n",
              "      <td>5/9/2018</td>\n",
              "      <td>2697.790039</td>\n",
              "      <td>124.330002</td>\n",
              "      <td>14.3700</td>\n",
              "      <td>15.5300</td>\n",
              "      <td>1.184722</td>\n",
              "    </tr>\n",
              "    <tr>\n",
              "      <th>2287</th>\n",
              "      <td>5/10/2018</td>\n",
              "      <td>2723.070068</td>\n",
              "      <td>125.180000</td>\n",
              "      <td>14.4100</td>\n",
              "      <td>15.7400</td>\n",
              "      <td>1.191753</td>\n",
              "    </tr>\n",
              "    <tr>\n",
              "      <th>2288</th>\n",
              "      <td>5/14/2018</td>\n",
              "      <td>2730.129883</td>\n",
              "      <td>124.489998</td>\n",
              "      <td>14.3800</td>\n",
              "      <td>15.5600</td>\n",
              "      <td>1.193118</td>\n",
              "    </tr>\n",
              "    <tr>\n",
              "      <th>2289</th>\n",
              "      <td>5/16/2018</td>\n",
              "      <td>2725.780029</td>\n",
              "      <td>122.543800</td>\n",
              "      <td>14.4058</td>\n",
              "      <td>15.4542</td>\n",
              "      <td>1.182033</td>\n",
              "    </tr>\n",
              "  </tbody>\n",
              "</table>\n",
              "</div>"
            ],
            "text/plain": [
              "           Date          SPX         GLD      USO      SLV   EUR/USD\n",
              "2285   5/8/2018  2671.919922  124.589996  14.0600  15.5100  1.186789\n",
              "2286   5/9/2018  2697.790039  124.330002  14.3700  15.5300  1.184722\n",
              "2287  5/10/2018  2723.070068  125.180000  14.4100  15.7400  1.191753\n",
              "2288  5/14/2018  2730.129883  124.489998  14.3800  15.5600  1.193118\n",
              "2289  5/16/2018  2725.780029  122.543800  14.4058  15.4542  1.182033"
            ]
          },
          "metadata": {},
          "execution_count": 4
        }
      ]
    },
    {
      "cell_type": "code",
      "metadata": {
        "colab": {
          "base_uri": "https://localhost:8080/",
          "height": 300
        },
        "id": "c2NVRMX2XsaR",
        "outputId": "016ba3ad-0749-42cf-8475-0cdc41f8f4ff"
      },
      "source": [
        "#statistics of the dataset\n",
        "#gold_data.shape\n",
        "#gold_data.info()\n",
        "gold_data.describe()\n"
      ],
      "execution_count": 11,
      "outputs": [
        {
          "output_type": "execute_result",
          "data": {
            "text/html": [
              "<div>\n",
              "<style scoped>\n",
              "    .dataframe tbody tr th:only-of-type {\n",
              "        vertical-align: middle;\n",
              "    }\n",
              "\n",
              "    .dataframe tbody tr th {\n",
              "        vertical-align: top;\n",
              "    }\n",
              "\n",
              "    .dataframe thead th {\n",
              "        text-align: right;\n",
              "    }\n",
              "</style>\n",
              "<table border=\"1\" class=\"dataframe\">\n",
              "  <thead>\n",
              "    <tr style=\"text-align: right;\">\n",
              "      <th></th>\n",
              "      <th>SPX</th>\n",
              "      <th>GLD</th>\n",
              "      <th>USO</th>\n",
              "      <th>SLV</th>\n",
              "      <th>EUR/USD</th>\n",
              "    </tr>\n",
              "  </thead>\n",
              "  <tbody>\n",
              "    <tr>\n",
              "      <th>count</th>\n",
              "      <td>2290.000000</td>\n",
              "      <td>2290.000000</td>\n",
              "      <td>2290.000000</td>\n",
              "      <td>2290.000000</td>\n",
              "      <td>2290.000000</td>\n",
              "    </tr>\n",
              "    <tr>\n",
              "      <th>mean</th>\n",
              "      <td>1654.315776</td>\n",
              "      <td>122.732875</td>\n",
              "      <td>31.842221</td>\n",
              "      <td>20.084997</td>\n",
              "      <td>1.283653</td>\n",
              "    </tr>\n",
              "    <tr>\n",
              "      <th>std</th>\n",
              "      <td>519.111540</td>\n",
              "      <td>23.283346</td>\n",
              "      <td>19.523517</td>\n",
              "      <td>7.092566</td>\n",
              "      <td>0.131547</td>\n",
              "    </tr>\n",
              "    <tr>\n",
              "      <th>min</th>\n",
              "      <td>676.530029</td>\n",
              "      <td>70.000000</td>\n",
              "      <td>7.960000</td>\n",
              "      <td>8.850000</td>\n",
              "      <td>1.039047</td>\n",
              "    </tr>\n",
              "    <tr>\n",
              "      <th>25%</th>\n",
              "      <td>1239.874969</td>\n",
              "      <td>109.725000</td>\n",
              "      <td>14.380000</td>\n",
              "      <td>15.570000</td>\n",
              "      <td>1.171313</td>\n",
              "    </tr>\n",
              "    <tr>\n",
              "      <th>50%</th>\n",
              "      <td>1551.434998</td>\n",
              "      <td>120.580002</td>\n",
              "      <td>33.869999</td>\n",
              "      <td>17.268500</td>\n",
              "      <td>1.303296</td>\n",
              "    </tr>\n",
              "    <tr>\n",
              "      <th>75%</th>\n",
              "      <td>2073.010070</td>\n",
              "      <td>132.840004</td>\n",
              "      <td>37.827501</td>\n",
              "      <td>22.882499</td>\n",
              "      <td>1.369971</td>\n",
              "    </tr>\n",
              "    <tr>\n",
              "      <th>max</th>\n",
              "      <td>2872.870117</td>\n",
              "      <td>184.589996</td>\n",
              "      <td>117.480003</td>\n",
              "      <td>47.259998</td>\n",
              "      <td>1.598798</td>\n",
              "    </tr>\n",
              "  </tbody>\n",
              "</table>\n",
              "</div>"
            ],
            "text/plain": [
              "               SPX          GLD          USO          SLV      EUR/USD\n",
              "count  2290.000000  2290.000000  2290.000000  2290.000000  2290.000000\n",
              "mean   1654.315776   122.732875    31.842221    20.084997     1.283653\n",
              "std     519.111540    23.283346    19.523517     7.092566     0.131547\n",
              "min     676.530029    70.000000     7.960000     8.850000     1.039047\n",
              "25%    1239.874969   109.725000    14.380000    15.570000     1.171313\n",
              "50%    1551.434998   120.580002    33.869999    17.268500     1.303296\n",
              "75%    2073.010070   132.840004    37.827501    22.882499     1.369971\n",
              "max    2872.870117   184.589996   117.480003    47.259998     1.598798"
            ]
          },
          "metadata": {},
          "execution_count": 11
        }
      ]
    },
    {
      "cell_type": "code",
      "metadata": {
        "colab": {
          "base_uri": "https://localhost:8080/"
        },
        "id": "2NzKXqidY3d9",
        "outputId": "ebdf3ec2-692f-493d-81ed-3e9dc9e37e19"
      },
      "source": [
        "#checking for missing values\n",
        "gold_data.isnull().sum()"
      ],
      "execution_count": 10,
      "outputs": [
        {
          "output_type": "execute_result",
          "data": {
            "text/plain": [
              "Date       0\n",
              "SPX        0\n",
              "GLD        0\n",
              "USO        0\n",
              "SLV        0\n",
              "EUR/USD    0\n",
              "dtype: int64"
            ]
          },
          "metadata": {},
          "execution_count": 10
        }
      ]
    },
    {
      "cell_type": "code",
      "metadata": {
        "id": "HAHhBte8ZAH6"
      },
      "source": [
        "correlation = gold_data.corr()"
      ],
      "execution_count": 12,
      "outputs": []
    },
    {
      "cell_type": "code",
      "metadata": {
        "colab": {
          "base_uri": "https://localhost:8080/",
          "height": 487
        },
        "id": "u5Y6l76RZM3N",
        "outputId": "9f22c298-1507-499c-a7fe-1ce14ecbcae4"
      },
      "source": [
        "#constructing heat map to understand correlation\n",
        "plt.figure(figsize = (8,8))\n",
        "sns.heatmap(correlation, cbar=True, square= True,annot=True,fmt='.1f',annot_kws={'size':8},cmap='Blues')"
      ],
      "execution_count": 16,
      "outputs": [
        {
          "output_type": "execute_result",
          "data": {
            "text/plain": [
              "<matplotlib.axes._subplots.AxesSubplot at 0x7f590330f790>"
            ]
          },
          "metadata": {},
          "execution_count": 16
        },
        {
          "output_type": "display_data",
          "data": {
            "image/png": "[encoded data removed]",
            "text/plain": [
              "<Figure size 576x576 with 2 Axes>"
            ]
          },
          "metadata": {
            "needs_background": "light"
          }
        }
      ]
    },
    {
      "cell_type": "code",
      "metadata": {
        "colab": {
          "base_uri": "https://localhost:8080/"
        },
        "id": "6_Na7lD3a3gO",
        "outputId": "4e6e5057-0a7d-48c6-bbcc-c20e783e95d5"
      },
      "source": [
        "print(correlation['GLD'])"
      ],
      "execution_count": 17,
      "outputs": [
        {
          "output_type": "stream",
          "name": "stdout",
          "text": [
            "SPX        0.049345\n",
            "GLD        1.000000\n",
            "USO       -0.186360\n",
            "SLV        0.866632\n",
            "EUR/USD   -0.024375\n",
            "Name: GLD, dtype: float64\n"
          ]
        }
      ]
    },
    {
      "cell_type": "code",
      "metadata": {
        "colab": {
          "base_uri": "https://localhost:8080/",
          "height": 355
        },
        "id": "po2Ox4CGa_OC",
        "outputId": "13155736-35fd-4134-f5a0-4b8f674e7efc"
      },
      "source": [
        "#distribution of GLD Price\n",
        "sns.distplot(gold_data['GLD'],color='green')"
      ],
      "execution_count": 18,
      "outputs": [
        {
          "output_type": "stream",
          "name": "stderr",
          "text": [
            "/usr/local/lib/python3.7/dist-packages/seaborn/distributions.py:2619: FutureWarning: `distplot` is a deprecated function and will be removed in a future version. Please adapt your code to use either `displot` (a figure-level function with similar flexibility) or `histplot` (an axes-level function for histograms).\n",
            "  warnings.warn(msg, FutureWarning)\n"
          ]
        },
        {
          "output_type": "execute_result",
          "data": {
            "text/plain": [
              "<matplotlib.axes._subplots.AxesSubplot at 0x7f58f6067350>"
            ]
          },
          "metadata": {},
          "execution_count": 18
        },
        {
          "output_type": "display_data",
          "data": {
            "image/png": "[encoded data removed]",
            "text/plain": [
              "<Figure size 432x288 with 1 Axes>"
            ]
          },
          "metadata": {
            "needs_background": "light"
          }
        }
      ]
    },
    {
      "cell_type": "code",
      "metadata": {
        "id": "ugT38BsWbdjT"
      },
      "source": [
        "#splitting features and target\n",
        "X = gold_data.drop(['Date','GLD'],axis=1)\n",
        "Y = gold_data['GLD']"
      ],
      "execution_count": 19,
      "outputs": []
    },
    {
      "cell_type": "code",
      "metadata": {
        "id": "lCe9SCeXbxD6"
      },
      "source": [
        "x_train, x_test, y_train, y_test= train_test_split(X,Y,test_size=0.2, random_state=2)"
      ],
      "execution_count": 21,
      "outputs": []
    },
    {
      "cell_type": "code",
      "metadata": {
        "id": "Qgdtofh2cf7T"
      },
      "source": [
        "regressor = RandomForestRegressor(n_estimators=100)"
      ],
      "execution_count": 22,
      "outputs": []
    },
    {
      "cell_type": "code",
      "metadata": {
        "colab": {
          "base_uri": "https://localhost:8080/"
        },
        "id": "KK9IdZnRdnbS",
        "outputId": "f9b26e17-d503-435b-d1ee-a316c4c5f347"
      },
      "source": [
        "regressor.fit(x_train,y_train)"
      ],
      "execution_count": 23,
      "outputs": [
        {
          "output_type": "execute_result",
          "data": {
            "text/plain": [
              "RandomForestRegressor()"
            ]
          },
          "metadata": {},
          "execution_count": 23
        }
      ]
    },
    {
      "cell_type": "code",
      "metadata": {
        "colab": {
          "base_uri": "https://localhost:8080/"
        },
        "id": "yoZWZZqId0_p",
        "outputId": "d63010de-b3de-4f99-89cb-c84a47db14df"
      },
      "source": [
        "#prediction on test data\n",
        "test_data_prediction = regressor.predict(x_test)\n",
        "print(test_data_prediction)"
      ],
      "execution_count": 25,
      "outputs": [
        {
          "output_type": "stream",
          "name": "stdout",
          "text": [
            "[168.24829913  82.02719974 116.02930068 127.70980077 120.61670136\n",
            " 154.65819839 150.25519774 126.11510001 117.55859869 126.14010022\n",
            " 116.69580112 172.08260098 140.84299826 167.79969815 115.20519994\n",
            " 117.62230052 138.42020355 169.78070086 159.26390296 158.32419898\n",
            " 155.1012003  125.43100029 176.21549922 157.41570376 125.13570028\n",
            "  93.60569992  78.14810014 120.36900012 119.02669898 167.45159926\n",
            "  88.19330077 125.39940018  91.17650068 117.57870042 121.11119929\n",
            " 136.77520024 115.25270117 115.16900082 147.99089938 107.09640129\n",
            " 104.40070249  87.11799787 126.58960086 118.07639978 152.1720984\n",
            " 119.71299977 108.26680022 107.92199816  93.07280056 127.13139814\n",
            "  75.11540026 113.69029947 121.18540018 111.18389896 118.83769875\n",
            " 121.01359954 159.8713004  167.83110122 146.65439603  85.74439837\n",
            "  94.33560012  86.89509858  90.49049996 119.04580068 126.53410052\n",
            " 127.58360015 168.42459928 122.31849922 117.44899891  98.64300033\n",
            " 168.17970085 142.91679802 132.03750242 121.18000212 121.13909926\n",
            " 119.69140078 114.65310158 118.31060035 107.22000105 127.83220045\n",
            " 114.01429973 107.46799996 117.04990056 119.57879882  89.07390094\n",
            "  88.16819856 146.01880206 127.32890083 113.32490035 109.93399848\n",
            " 108.20039876  77.58869907 170.01650177 113.96809897 121.577999\n",
            " 128.19540177 155.11329864  91.64209955 135.73830119 158.21150354\n",
            " 125.18210059 125.5914006  130.64820255 114.98810081 119.84440002\n",
            "  92.12719989 110.24249892 165.30349853 155.84599914 114.16099957\n",
            " 106.74360137  79.67069994 113.33640036 125.90060081 107.14669933\n",
            " 119.18390064 155.87370299 159.84829823 120.5186998  134.35030312\n",
            " 101.4327     117.43589791 119.42159991 112.86760085 102.79779915\n",
            " 160.30309695  99.08650037 147.61149843 125.48500102 169.5653986\n",
            " 125.58109927 127.2379979  127.6222019  113.68559919 112.4271007\n",
            " 123.51909895 102.22499916  89.35529988 124.68799989 101.70099919\n",
            " 106.97919926 113.47350078 117.72810059  99.40729966 121.74410063\n",
            " 163.78209904  87.28279848 106.77630003 117.04480079 127.63980156\n",
            " 124.23180064  80.8067992  120.32130067 157.757598    88.0027996\n",
            " 110.1625996  118.90589947 172.5708988  103.02099901 105.50150041\n",
            " 122.55140056 158.23349779  87.21259844  93.1512004  112.2976006\n",
            " 177.61209875 114.44829952 119.50359983  94.69400043 125.5562\n",
            " 166.25620095 114.83250032 116.61200158  88.19559841 148.66690047\n",
            " 120.29099969  89.47999966 111.76140045 117.47949999 118.68370102\n",
            "  88.08119967  94.54589962 116.93669991 118.54610194 120.34370037\n",
            " 126.81999854 121.89949986 150.57609985 165.45820067 118.52669952\n",
            " 120.39670141 150.12890048 118.43549928 173.00649942 105.30809949\n",
            " 104.98420089 148.91390044 113.69210074 124.93280103 147.17609896\n",
            " 119.69180124 115.43870073 112.41120025 113.56610166 139.93370062\n",
            " 117.83949774 102.91150052 115.87840091 103.48470159  99.00410042\n",
            " 117.35640062  90.63320008  91.43810051 153.65699895 102.75449983\n",
            " 154.42820079 114.34150119 138.84670122  90.17919853 115.5491994\n",
            " 114.84169934 122.99089997 121.92950002 165.13340114  92.96579957\n",
            " 135.38040159 121.29029968 120.75470061 104.53290046 142.69290275\n",
            " 121.97829934 116.59240039 113.53880098 126.91869802 122.81879962\n",
            " 125.89019926 121.17630042  86.92069894 132.49260126 144.50390195\n",
            "  92.62329927 158.07359913 158.78110295 126.40819908 164.93739959\n",
            " 108.8879     109.67130094 103.81609851  94.33080046 127.7353028\n",
            " 107.19880103 161.04299947 121.83700043 132.09640163 130.72960195\n",
            " 161.03769969  90.07989847 173.65750224 127.98710025 126.83029884\n",
            "  86.09249921 124.48069917 150.00629708  89.61500002 106.90409983\n",
            " 109.07459993  84.20739887 136.15060007 154.88400268 141.21160347\n",
            "  73.72750039 152.00300065 125.96830022 126.73919991 127.46269887\n",
            " 108.42029933 156.31010119 114.48980099 116.94640145 125.1331994\n",
            " 154.27180157 121.57019976 156.38249884  93.15330069 125.47710128\n",
            " 125.39760016  87.9439007   92.27719939 126.19149917 128.02140343\n",
            " 113.24800033 117.50849717 120.87759999 126.96639823 119.71810098\n",
            " 137.20450044  94.13029936 119.88690032 113.24600118  94.42579971\n",
            " 108.96739944  87.53149925 109.34379954  89.71259997  92.44810023\n",
            " 131.7454024  162.4484004   89.23720021 119.78840075 133.48130197\n",
            " 123.96850029 128.2676012  101.90759844  89.0002988  131.65900105\n",
            " 119.76960065 108.54109997 169.42710045 115.13910036  86.56929898\n",
            " 118.71350058  91.05159971 161.90279983 116.59330028 121.77869985\n",
            " 160.27039746 120.22489926 112.76839937 108.38619847 126.82429978\n",
            "  76.16230026 103.00749989 127.8003026  121.79099938  92.63340032\n",
            " 131.63480037 117.95650146 116.14479944 154.40140295 158.7775006\n",
            " 109.89699975 154.80959766 119.19470069 160.41289978 118.41370035\n",
            " 157.23499976 115.18969941 116.91560023 148.24809951 114.83690079\n",
            " 125.52439878 164.96799883 117.8378002  125.04779978 153.28320363\n",
            " 153.42760221 132.16950037 114.88480059 121.22350208 125.19160126\n",
            "  89.56300058 123.0602999  155.15450225 111.81480032 106.7434999\n",
            " 161.56060156 118.52450018 165.73999997 134.00270144 115.10809949\n",
            " 152.98699904 168.61419879 115.53569995 114.03730088 159.08669876\n",
            "  85.20479882 127.12200023 127.92600096 129.03880066 124.24790067\n",
            " 123.81320069  90.44280063 153.12820018  97.10149974 138.18979998\n",
            "  89.11899949 107.31970001 115.00090042 112.63340081 124.30039899\n",
            "  91.4389989  125.40700152 162.30609851 119.79579885 164.90850169\n",
            " 126.8412984  112.37539996 127.43209927  94.97019871  91.11789969\n",
            " 102.73339897 120.8702001   83.04239931 126.30779963 160.41320398\n",
            " 117.311101   118.25369994 119.62339972 122.81889982 120.10230133\n",
            " 121.56030009 118.09080088 107.02850027 147.73829855 125.98519909\n",
            " 115.81750082  73.8209002  127.82130077 153.13409978 121.66000006\n",
            " 125.57360075  88.83920038 103.91149847 124.32770077 120.33850028\n",
            "  73.15740105 151.7252003  121.07230019 104.6756998   86.53439778\n",
            " 115.23689918 171.84109832 119.87170053 159.86109775 113.22509991\n",
            " 121.30040021 118.48220135  96.00499989 118.7277     125.91760053\n",
            " 118.63439967  96.13370088 153.36890176 122.45650031 147.45749951\n",
            " 159.07350221 114.08440024 122.56049939 150.5691979  127.16880057\n",
            " 165.67060019 135.98680037 119.95979945 168.00959878 108.16789921\n",
            " 121.74499841 139.20620121 106.3488995 ]\n"
          ]
        }
      ]
    },
    {
      "cell_type": "code",
      "metadata": {
        "colab": {
          "base_uri": "https://localhost:8080/"
        },
        "id": "p21JMTa4eFwx",
        "outputId": "bae88293-5239-46ab-baf1-d3d2958078ca"
      },
      "source": [
        "# comparing predictions with actual values\n",
        "error_score =  metrics.r2_score(y_test,test_data_prediction)\n",
        "print('R squared error: ',error_score)"
      ],
      "execution_count": 26,
      "outputs": [
        {
          "output_type": "stream",
          "name": "stdout",
          "text": [
            "R squared error:  0.9889944045716588\n"
          ]
        }
      ]
    },
    {
      "cell_type": "code",
      "metadata": {
        "id": "BKTjxakxe7XL"
      },
      "source": [
        "y_test = list(y_test)"
      ],
      "execution_count": 27,
      "outputs": []
    },
    {
      "cell_type": "code",
      "metadata": {
        "colab": {
          "base_uri": "https://localhost:8080/",
          "height": 295
        },
        "id": "7A_z-LWnfGSj",
        "outputId": "1008fbda-9a12-45e6-fd76-f7f047b7a994"
      },
      "source": [
        "plt.plot(y_test,color='blue',label='Actual Value')\n",
        "plt.plot(test_data_prediction,color='green',label='Predicted Value')\n",
        "plt.title('Actual vs Predicted')\n",
        "plt.xlabel('Number of values')\n",
        "plt.ylabel('GLD Price')\n",
        "plt.legend()\n",
        "plt.show()\n",
        "#note that the values are overlapping/very close, implying they are almost same"
      ],
      "execution_count": 29,
      "outputs": [
        {
          "output_type": "display_data",
          "data": {
            "image/png": "[encoded data removed]",
            "text/plain": [
              "<Figure size 432x288 with 1 Axes>"
            ]
          },
          "metadata": {
            "needs_background": "light"
          }
        }
      ]
    }
  ]
}